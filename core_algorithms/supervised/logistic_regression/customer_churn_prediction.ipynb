{
 "cells": [
  {
   "cell_type": "markdown",
   "metadata": {},
   "source": [
    "**Jupyter Notebook Example: Logistic Regression for Customer Churn Prediction**\n",
    "\n",
    "**1. Introduction to Logistic Regression**\n",
    "\n",
    "*   **Concept:** Logistic regression is a classification algorithm used to predict the probability of a binary outcome. Unlike linear regression, which predicts continuous values, logistic regression predicts categories or classes. It's especially used when the outcome is binary (two possible outcomes), like \"yes\" or \"no,\" \"true\" or \"false,\" \"churn\" or \"not churn.\"\n",
    "\n",
    "*   **Why not Linear Regression for Classification?** You might wonder, why not just use linear regression and set a threshold?  If we predict a house price above $300,000, classify it as \"expensive,\" otherwise \"cheap.\"  While conceptually simple, linear regression outputs values that are not bounded between 0 and 1, making them unsuitable for probabilities. Also, for binary classification, the errors in linear regression won't behave nicely.\n",
    "\n",
    "*   **Analogy:** Imagine you want to predict if a customer will churn (cancel their subscription) or not. You might look at factors like how long they've been a customer, their monthly spending, and their usage. Logistic regression tries to predict the *probability* of churn. For example, it might predict a 0.8 probability of churn for one customer and 0.2 for another. We then set a threshold (like 0.5) to classify customers: probability > 0.5 as \"churn,\" and probability <= 0.5 as \"not churn.\"\n",
    "\n",
    "*   **The Sigmoid Function (Key to Logistic Regression):** Logistic regression uses a special function called the **sigmoid function** (or logistic function).  This function takes any real number as input and outputs a value between 0 and 1. This output is interpreted as a probability.\n",
    "\n",
    "    The sigmoid function looks like this:\n",
    "\n",
    "    ```\n",
    "    σ(z) = 1 / (1 + e^(-z))\n",
    "    ```\n",
    "\n",
    "    Where:\n",
    "    *   `σ(z)` is the sigmoid function output (probability).\n",
    "    *   `z` is the linear combination of input features (similar to `mx + c` in linear regression, but potentially with multiple features).\n",
    "    *   `e` is the base of the natural logarithm (approximately 2.71828).\n",
    "\n",
    "    In logistic regression, we calculate `z` as a linear combination of our features: `z = w1*x1 + w2*x2 + ... + wn*xn + b`, where `x1, x2, ..., xn` are features, `w1, w2, ..., wn` are weights (coefficients), and `b` is the bias (intercept).  Then we pass `z` through the sigmoid function to get a probability.\n",
    "\n",
    "*   **Goal:** The goal of logistic regression is to find the optimal weights (`w1, w2, ..., wn`) and bias (`b`) that best separate the two classes in our data.  This is typically done by maximizing the \"likelihood\" of observing the actual outcomes in our training data given the model's predicted probabilities.\n",
    "\n",
    "**2. Use Case: Predicting Customer Churn**\n",
    "\n",
    "*   **Scenario:** Let's say you're working for a telecommunications company. You want to predict which customers are likely to churn (stop using your services). You have historical data on customer behavior, including:\n",
    "    *   **Contract Length:** How long they've been on a contract (e.g., month-to-month, one year, two year).\n",
    "    *   **Monthly Charges:** How much they pay per month.\n",
    "    *   **Data Usage:**  Average monthly data usage.\n",
    "    *   ... and whether they ultimately churned or not.\n",
    "\n",
    "*   **Dataset (Example - Synthetic):**\n",
    "\n",
    "    | Contract Length (months) | Monthly Charges ($) | Data Usage (GB) | Churn (Yes/No) |\n",
    "    |--------------------------|---------------------|-----------------|----------------|\n",
    "    | 12                       | 60                  | 50              | No             |\n",
    "    | 1                        | 80                  | 100             | Yes            |\n",
    "    | 24                       | 45                  | 30              | No             |\n",
    "    | 1                        | 90                  | 120             | Yes            |\n",
    "    | 36                       | 55                  | 40              | No             |\n",
    "    | ...                      | ...                 | ...             | ...            |\n",
    "\n",
    "**3. Python Code in Jupyter Notebook**\n",
    "\n",
    "Let's get to the code!\n",
    "\n",
    "**Step 1: Import Libraries**\n",
    "\n",
    "We'll need similar libraries as before, but we'll use `LogisticRegression` from `sklearn.linear_model` and `accuracy_score` for evaluation.\n"
   ]
  },
  {
   "cell_type": "code",
   "execution_count": 1,
   "metadata": {},
   "outputs": [],
   "source": [
    "import pandas as pd\n",
    "import numpy as np\n",
    "import matplotlib.pyplot as plt\n",
    "from sklearn.linear_model import LogisticRegression\n",
    "from sklearn.model_selection import train_test_split\n",
    "from sklearn.metrics import accuracy_score, confusion_matrix, classification_report\n",
    "import seaborn as sns # for better visualizations"
   ]
  },
  {
   "cell_type": "markdown",
   "metadata": {},
   "source": [
    "\n",
    "**Step 2: Create Synthetic Data**\n",
    "\n",
    "Let's create some synthetic customer churn data.\n"
   ]
  },
  {
   "cell_type": "code",
   "execution_count": 2,
   "metadata": {},
   "outputs": [
    {
     "name": "stdout",
     "output_type": "stream",
     "text": [
      "   ContractLength  MonthlyCharges   DataUsage Churn\n",
      "0               1       71.710588  119.705256   Yes\n",
      "1               4      108.711566   21.269637   Yes\n",
      "2               4      114.970778   60.077202   Yes\n",
      "3              10       84.742758   50.272511   Yes\n",
      "4              20       83.698987   85.445566   Yes\n"
     ]
    }
   ],
   "source": [
    "np.random.seed(0)\n",
    "\n",
    "# Number of samples\n",
    "n_samples = 200\n",
    "\n",
    "# Contract length (months): shorter contracts might mean higher churn\n",
    "contract_length = np.random.randint(1, 37, n_samples) # 1 to 36 months\n",
    "monthly_charges = np.random.uniform(30, 120, n_samples) # $30 to $120\n",
    "data_usage = np.random.uniform(20, 150, n_samples) # 20GB to 150GB\n",
    "\n",
    "# Simulate churn: Higher charges, shorter contracts, higher usage might increase churn probability\n",
    "churn_probability = (1 / (1 + np.exp(-(0.1 * data_usage + 0.05 * monthly_charges - 0.2 * contract_length - 4)))) # Sigmoid-like function to generate probabilities\n",
    "churn = np.random.binomial(1, churn_probability) # 1=Churn, 0=No Churn\n",
    "\n",
    "# Create DataFrame\n",
    "data = pd.DataFrame({\n",
    "    'ContractLength': contract_length,\n",
    "    'MonthlyCharges': monthly_charges,\n",
    "    'DataUsage': data_usage,\n",
    "    'Churn': churn\n",
    "})\n",
    "\n",
    "# Convert 'Churn' to categorical for better readability later if needed (optional)\n",
    "data['Churn'] = data['Churn'].map({0: 'No', 1: 'Yes'})\n",
    "\n",
    "print(data.head())"
   ]
  },
  {
   "cell_type": "markdown",
   "metadata": {},
   "source": [
    "\n",
    "**Explanation:**\n",
    "\n",
    "*   We generate synthetic data for `ContractLength`, `MonthlyCharges`, and `DataUsage` using random number generators.\n",
    "*   We create `churn_probability` using a sigmoid-like function that makes churn more likely for customers with higher data usage and monthly charges, and shorter contract lengths.  This is just a way to create data that has some plausible relationships.\n",
    "*   `np.random.binomial(1, churn_probability)` uses the `churn_probability` to decide whether each customer churns (1) or not (0).\n",
    "*   We create a Pandas DataFrame and convert the 'Churn' column to 'Yes'/'No' for better readability (optional).\n",
    "\n",
    "**Step 3: Visualize the Data**\n",
    "\n",
    "Let's visualize the relationships. We can use box plots to see how features vary for churned vs. non-churned customers.\n"
   ]
  },
  {
   "cell_type": "code",
   "execution_count": 3,
   "metadata": {},
   "outputs": [
    {
     "data": {
      "image/png": "[encoded data removed]",
      "text/plain": [
       "<Figure size 1500x500 with 3 Axes>"
      ]
     },
     "metadata": {},
     "output_type": "display_data"
    }
   ],
   "source": [
    "fig, axes = plt.subplots(1, 3, figsize=(15, 5))\n",
    "\n",
    "sns.boxplot(x='Churn', y='ContractLength', data=data, ax=axes[0])\n",
    "axes[0].set_title('Contract Length vs. Churn')\n",
    "\n",
    "sns.boxplot(x='Churn', y='MonthlyCharges', data=data, ax=axes[1])\n",
    "axes[1].set_title('Monthly Charges vs. Churn')\n",
    "\n",
    "sns.boxplot(x='Churn', y='DataUsage', data=data, ax=axes[2])\n",
    "axes[2].set_title('Data Usage vs. Churn')\n",
    "\n",
    "plt.tight_layout() # Adjust layout to prevent overlapping titles\n",
    "plt.show()"
   ]
  },
  {
   "cell_type": "markdown",
   "metadata": {},
   "source": [
    "\n",
    "**Explanation:**\n",
    "\n",
    "*   We use `seaborn.boxplot` to create box plots. Box plots are great for comparing distributions of numerical features across different categories (here, 'Churn' categories: 'Yes' and 'No').\n",
    "*   We plot box plots for `ContractLength`, `MonthlyCharges`, and `DataUsage`, each against 'Churn'.\n",
    "\n",
    "*You should observe trends in the box plots that align with our churn simulation logic. For example, churned customers might tend to have shorter contract lengths and possibly higher monthly charges and data usage in this synthetic data.*\n",
    "\n",
    "**Step 4: Prepare Data (Features and Target)**\n"
   ]
  },
  {
   "cell_type": "code",
   "execution_count": 4,
   "metadata": {},
   "outputs": [],
   "source": [
    "X = data[['ContractLength', 'MonthlyCharges', 'DataUsage']] # Features\n",
    "y = data['Churn'] # Target"
   ]
  },
  {
   "cell_type": "markdown",
   "metadata": {},
   "source": [
    "\n",
    "**Step 5: Split into Training and Testing Sets**\n"
   ]
  },
  {
   "cell_type": "code",
   "execution_count": 5,
   "metadata": {},
   "outputs": [
    {
     "name": "stdout",
     "output_type": "stream",
     "text": [
      "Training set size: 160\n",
      "Testing set size: 40\n",
      "\n",
      "Class distribution in training set:\n",
      " Churn\n",
      "Yes    0.79375\n",
      "No     0.20625\n",
      "Name: proportion, dtype: float64\n",
      "\n",
      "Class distribution in testing set:\n",
      " Churn\n",
      "Yes    0.8\n",
      "No     0.2\n",
      "Name: proportion, dtype: float64\n"
     ]
    }
   ],
   "source": [
    "X_train, X_test, y_train, y_test = train_test_split(X, y, test_size=0.2, random_state=42, stratify=y) # stratify=y to maintain class proportions\n",
    "print(\"Training set size:\", len(X_train))\n",
    "print(\"Testing set size:\", len(X_test))\n",
    "print(\"\\nClass distribution in training set:\\n\", y_train.value_counts(normalize=True)) # Class proportions\n",
    "print(\"\\nClass distribution in testing set:\\n\", y_test.value_counts(normalize=True))"
   ]
  },
  {
   "cell_type": "markdown",
   "metadata": {},
   "source": [
    "\n",
    "**Explanation:**\n",
    "\n",
    "*   `stratify=y` in `train_test_split` is important for classification, especially if your classes are imbalanced. It ensures that the proportions of 'Churn' and 'No Churn' are roughly the same in both the training and testing sets as they are in the original dataset. This helps to get a more representative evaluation.\n",
    "\n",
    "**Step 6: Train the Logistic Regression Model**\n"
   ]
  },
  {
   "cell_type": "code",
   "execution_count": 6,
   "metadata": {},
   "outputs": [
    {
     "name": "stdout",
     "output_type": "stream",
     "text": [
      "\n",
      "Logistic Regression Model Trained!\n"
     ]
    }
   ],
   "source": [
    "# Create a Logistic Regression model\n",
    "model = LogisticRegression()\n",
    "\n",
    "# Train the model\n",
    "model.fit(X_train, y_train)\n",
    "\n",
    "print(\"\\nLogistic Regression Model Trained!\")"
   ]
  },
  {
   "cell_type": "markdown",
   "metadata": {},
   "source": [
    "\n",
    "**Step 7: Make Predictions**\n"
   ]
  },
  {
   "cell_type": "code",
   "execution_count": 7,
   "metadata": {},
   "outputs": [],
   "source": [
    "\n",
    "y_pred = model.predict(X_test)"
   ]
  },
  {
   "cell_type": "markdown",
   "metadata": {},
   "source": [
    "\n",
    "**Step 8: Evaluate the Model**\n",
    "\n",
    "For classification, **accuracy** is a common metric, but we should also look at **confusion matrix** and **classification report** for a more complete picture, especially if classes are imbalanced or if different types of errors (false positives vs. false negatives) have different costs.\n"
   ]
  },
  {
   "cell_type": "code",
   "execution_count": 8,
   "metadata": {},
   "outputs": [
    {
     "name": "stdout",
     "output_type": "stream",
     "text": [
      "Accuracy on Test Set: 0.88\n",
      "\n",
      "Confusion Matrix:\n",
      " [[ 5  3]\n",
      " [ 2 30]]\n",
      "\n",
      "Classification Report:\n",
      "               precision    recall  f1-score   support\n",
      "\n",
      "          No       0.71      0.62      0.67         8\n",
      "         Yes       0.91      0.94      0.92        32\n",
      "\n",
      "    accuracy                           0.88        40\n",
      "   macro avg       0.81      0.78      0.79        40\n",
      "weighted avg       0.87      0.88      0.87        40\n",
      "\n"
     ]
    },
    {
     "data": {
      "image/png": "[encoded data removed]",
      "text/plain": [
       "<Figure size 800x600 with 2 Axes>"
      ]
     },
     "metadata": {},
     "output_type": "display_data"
    }
   ],
   "source": [
    "\n",
    "accuracy = accuracy_score(y_test, y_pred)\n",
    "print(f\"Accuracy on Test Set: {accuracy:.2f}\")\n",
    "\n",
    "conf_matrix = confusion_matrix(y_test, y_pred)\n",
    "print(\"\\nConfusion Matrix:\\n\", conf_matrix)\n",
    "\n",
    "class_report = classification_report(y_test, y_pred)\n",
    "print(\"\\nClassification Report:\\n\", class_report)\n",
    "\n",
    "# Visualize Confusion Matrix using heatmap (optional but helpful)\n",
    "plt.figure(figsize=(8, 6))\n",
    "sns.heatmap(conf_matrix, annot=True, fmt='d', cmap='Blues',\n",
    "            xticklabels=model.classes_, yticklabels=model.classes_)\n",
    "plt.xlabel('Predicted')\n",
    "plt.ylabel('Actual')\n",
    "plt.title('Confusion Matrix')\n",
    "plt.show()"
   ]
  },
  {
   "cell_type": "markdown",
   "metadata": {},
   "source": [
    "\n",
    "**Explanation:**\n",
    "\n",
    "*   `accuracy_score(y_test, y_pred)`: Calculates the accuracy, which is the percentage of correctly classified instances.\n",
    "*   `confusion_matrix(y_test, y_pred)`:  Gives you a table showing:\n",
    "    *   True Positives (TP): Correctly predicted 'Yes' (Churn)\n",
    "    *   True Negatives (TN): Correctly predicted 'No' (No Churn)\n",
    "    *   False Positives (FP): Incorrectly predicted 'Yes' (Type I error - predicted churn when no churn)\n",
    "    *   False Negatives (FN): Incorrectly predicted 'No' (Type II error - predicted no churn when churn occurred)\n",
    "*   `classification_report(y_test, y_pred)`: Provides precision, recall, F1-score, and support for each class.\n",
    "    *   **Precision:**  Out of all instances predicted as positive (e.g., 'Churn'), how many were actually positive? (TP / (TP + FP)) - Lower false positives mean higher precision.\n",
    "    *   **Recall (Sensitivity):** Out of all actual positive instances, how many were correctly predicted as positive? (TP / (TP + FN)) - Lower false negatives mean higher recall.\n",
    "    *   **F1-score:**  Harmonic mean of precision and recall. A balanced measure.\n",
    "    *   **Support:** Number of actual instances in each class in the test set.\n",
    "*   `sns.heatmap(...)`: Creates a heatmap visualization of the confusion matrix, which makes it easier to interpret.\n",
    "\n",
    "**Step 9: Predict Churn for a New Customer**\n"
   ]
  },
  {
   "cell_type": "code",
   "execution_count": 9,
   "metadata": {},
   "outputs": [
    {
     "name": "stdout",
     "output_type": "stream",
     "text": [
      "Predicted Churn Probability for New Customer:\n",
      "[[4.39973542e-04 9.99560026e-01]]\n",
      "\n",
      "Predicted Churn Class for New Customer: Yes\n"
     ]
    }
   ],
   "source": [
    "\n",
    "new_customer = pd.DataFrame({\n",
    "    'ContractLength': [6],      # months\n",
    "    'MonthlyCharges': [75],     # $\n",
    "    'DataUsage': [90]         # GB\n",
    "})\n",
    "\n",
    "predicted_churn_probability = model.predict_proba(new_customer) # Get probabilities\n",
    "predicted_churn_class = model.predict(new_customer)          # Get class prediction\n",
    "\n",
    "print(f\"Predicted Churn Probability for New Customer:\\n{predicted_churn_probability}\") # Probabilities for [No Churn, Churn]\n",
    "print(f\"\\nPredicted Churn Class for New Customer: {predicted_churn_class[0]}\") # Predicted class ('Yes' or 'No')"
   ]
  },
  {
   "cell_type": "markdown",
   "metadata": {},
   "source": [
    "\n",
    "**Explanation:**\n",
    "\n",
    "*   We create a DataFrame `new_customer` with features for a new customer. **Remember to put the features in a DataFrame with column names matching your training features.**\n",
    "*   `model.predict_proba(new_customer)`:  Predicts the probabilities for each class (No Churn and Churn). It returns an array like `[[probability of No Churn, probability of Churn]]`.\n",
    "*   `model.predict(new_customer)`: Predicts the class directly ('Yes' or 'No') based on the default threshold of 0.5 for probability.\n",
    "\n",
    "**4. Complete Jupyter Notebook Code**\n"
   ]
  },
  {
   "cell_type": "markdown",
   "metadata": {},
   "source": [
    "\n",
    "**5. Conclusion**\n",
    "\n",
    "This example demonstrated how to build a logistic regression model to predict customer churn.\n",
    "\n",
    "1.  **Classification vs. Regression:** The difference in prediction goals.\n",
    "2.  **Logistic Regression Concept:** How it uses the sigmoid function to predict probabilities for binary outcomes.\n",
    "3.  **Use Case:**  Predicting customer churn – a practical application.\n",
    "4.  **Evaluation Metrics for Classification:** Accuracy, confusion matrix, and classification report.\n",
    "5.  **Making Predictions:**  Using the trained model for new data.\n",
    "\n",
    "Logistic regression is a powerful and interpretable algorithm for binary classification tasks and is widely used in many domains. You can further explore feature engineering, try different models, and handle more complex real-world datasets as you expand your machine learning skills!"
   ]
  }
 ],
 "metadata": {
  "kernelspec": {
   "display_name": ".venv",
   "language": "python",
   "name": "python3"
  },
  "language_info": {
   "codemirror_mode": {
    "name": "ipython",
    "version": 3
   },
   "file_extension": ".py",
   "mimetype": "text/x-python",
   "name": "python",
   "nbconvert_exporter": "python",
   "pygments_lexer": "ipython3",
   "version": "3.13.2"
  }
 },
 "nbformat": 4,
 "nbformat_minor": 2
}
