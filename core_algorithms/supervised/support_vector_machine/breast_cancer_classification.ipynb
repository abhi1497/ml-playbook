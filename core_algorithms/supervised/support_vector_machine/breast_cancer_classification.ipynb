{
  "cells": [
    {
      "cell_type": "markdown",
      "metadata": {
        "id": "aK6lB5otcQtC"
      },
      "source": [
        "\n",
        "## Jupyter Notebook: Support Vector Machine (SVM) Example - Breast Cancer Classification\n",
        "\n",
        "**Goal:** To classify breast tumors as malignant (cancerous) or benign (non-cancerous) using features derived from digitized images of fine-needle aspirate (FNA) tests.\n",
        "\n",
        "**SVM Intuition:** SVM is a powerful supervised learning algorithm used for classification and regression. For classification, the core idea is to find the optimal \"hyperplane\" (a line in 2D, a plane in 3D, or a hyperplane in higher dimensions) that best separates the data points belonging to different classes in the feature space. The \"best\" hyperplane is the one with the maximum margin – the largest distance between the hyperplane and the nearest data points (called support vectors) from each class. SVMs can also use \"kernels\" (like RBF, polynomial, sigmoid) to effectively handle non-linearly separable data by mapping it into a higher-dimensional space where separation might become linear.\n",
        "\n",
        "---\n",
        "\n",
        "### 1. Import Libraries\n",
        "\n",
        "We'll need libraries for data handling, modeling, scaling, and evaluation."
      ]
    },
    {
      "cell_type": "code",
      "execution_count": 1,
      "metadata": {
        "id": "jcEldyMAcQtE"
      },
      "outputs": [
        {
          "name": "stdout",
          "output_type": "stream",
          "text": [
            "Libraries imported successfully!\n"
          ]
        }
      ],
      "source": [
        "# Data manipulation\n",
        "import pandas as pd\n",
        "import numpy as np\n",
        "\n",
        "# Dataset loading, splitting\n",
        "from sklearn.datasets import load_breast_cancer\n",
        "from sklearn.model_selection import train_test_split\n",
        "\n",
        "# Feature Scaling\n",
        "from sklearn.preprocessing import StandardScaler\n",
        "\n",
        "# SVM Classifier\n",
        "from sklearn.svm import SVC # \"SVC\" stands for Support Vector Classifier\n",
        "\n",
        "# Evaluation metrics\n",
        "from sklearn.metrics import accuracy_score, confusion_matrix, classification_report\n",
        "\n",
        "# Visualization\n",
        "import matplotlib.pyplot as plt\n",
        "import seaborn as sns\n",
        "\n",
        "# Set plot style\n",
        "sns.set(style=\"whitegrid\")\n",
        "\n",
        "print(\"Libraries imported successfully!\")"
      ]
    },
    {
      "cell_type": "markdown",
      "metadata": {
        "id": "WBhrNbdVcQtG"
      },
      "source": [
        "---\n",
        "\n",
        "### 2. Load and Explore the Dataset\n",
        "\n",
        "We'll use the Breast Cancer Wisconsin dataset, available in scikit-learn. It contains 30 numeric features computed from digitized images of breast mass FNA tests."
      ]
    },
    {
      "cell_type": "code",
      "execution_count": 2,
      "metadata": {
        "id": "3c7DdAYZcQtG"
      },
      "outputs": [
        {
          "name": "stdout",
          "output_type": "stream",
          "text": [
            "First 5 rows of the Breast Cancer dataset:\n",
            "   mean radius  mean texture  mean perimeter  mean area  mean smoothness  \\\n",
            "0        17.99         10.38          122.80     1001.0          0.11840   \n",
            "1        20.57         17.77          132.90     1326.0          0.08474   \n",
            "2        19.69         21.25          130.00     1203.0          0.10960   \n",
            "3        11.42         20.38           77.58      386.1          0.14250   \n",
            "4        20.29         14.34          135.10     1297.0          0.10030   \n",
            "\n",
            "   mean compactness  mean concavity  mean concave points  mean symmetry  \\\n",
            "0           0.27760          0.3001              0.14710         0.2419   \n",
            "1           0.07864          0.0869              0.07017         0.1812   \n",
            "2           0.15990          0.1974              0.12790         0.2069   \n",
            "3           0.28390          0.2414              0.10520         0.2597   \n",
            "4           0.13280          0.1980              0.10430         0.1809   \n",
            "\n",
            "   mean fractal dimension  ...  worst perimeter  worst area  worst smoothness  \\\n",
            "0                 0.07871  ...           184.60      2019.0            0.1622   \n",
            "1                 0.05667  ...           158.80      1956.0            0.1238   \n",
            "2                 0.05999  ...           152.50      1709.0            0.1444   \n",
            "3                 0.09744  ...            98.87       567.7            0.2098   \n",
            "4                 0.05883  ...           152.20      1575.0            0.1374   \n",
            "\n",
            "   worst compactness  worst concavity  worst concave points  worst symmetry  \\\n",
            "0             0.6656           0.7119                0.2654          0.4601   \n",
            "1             0.1866           0.2416                0.1860          0.2750   \n",
            "2             0.4245           0.4504                0.2430          0.3613   \n",
            "3             0.8663           0.6869                0.2575          0.6638   \n",
            "4             0.2050           0.4000                0.1625          0.2364   \n",
            "\n",
            "   worst fractal dimension  target  target_name  \n",
            "0                  0.11890       0    malignant  \n",
            "1                  0.08902       0    malignant  \n",
            "2                  0.08758       0    malignant  \n",
            "3                  0.17300       0    malignant  \n",
            "4                  0.07678       0    malignant  \n",
            "\n",
            "[5 rows x 32 columns]\n",
            "\n",
            "Dataset Info:\n",
            "<class 'pandas.core.frame.DataFrame'>\n",
            "RangeIndex: 569 entries, 0 to 568\n",
            "Data columns (total 32 columns):\n",
            " #   Column                   Non-Null Count  Dtype  \n",
            "---  ------                   --------------  -----  \n",
            " 0   mean radius              569 non-null    float64\n",
            " 1   mean texture             569 non-null    float64\n",
            " 2   mean perimeter           569 non-null    float64\n",
            " 3   mean area                569 non-null    float64\n",
            " 4   mean smoothness          569 non-null    float64\n",
            " 5   mean compactness         569 non-null    float64\n",
            " 6   mean concavity           569 non-null    float64\n",
            " 7   mean concave points      569 non-null    float64\n",
            " 8   mean symmetry            569 non-null    float64\n",
            " 9   mean fractal dimension   569 non-null    float64\n",
            " 10  radius error             569 non-null    float64\n",
            " 11  texture error            569 non-null    float64\n",
            " 12  perimeter error          569 non-null    float64\n",
            " 13  area error               569 non-null    float64\n",
            " 14  smoothness error         569 non-null    float64\n",
            " 15  compactness error        569 non-null    float64\n",
            " 16  concavity error          569 non-null    float64\n",
            " 17  concave points error     569 non-null    float64\n",
            " 18  symmetry error           569 non-null    float64\n",
            " 19  fractal dimension error  569 non-null    float64\n",
            " 20  worst radius             569 non-null    float64\n",
            " 21  worst texture            569 non-null    float64\n",
            " 22  worst perimeter          569 non-null    float64\n",
            " 23  worst area               569 non-null    float64\n",
            " 24  worst smoothness         569 non-null    float64\n",
            " 25  worst compactness        569 non-null    float64\n",
            " 26  worst concavity          569 non-null    float64\n",
            " 27  worst concave points     569 non-null    float64\n",
            " 28  worst symmetry           569 non-null    float64\n",
            " 29  worst fractal dimension  569 non-null    float64\n",
            " 30  target                   569 non-null    int64  \n",
            " 31  target_name              569 non-null    object \n",
            "dtypes: float64(30), int64(1), object(1)\n",
            "memory usage: 142.4+ KB\n",
            "\n",
            "Summary Statistics:\n",
            "       mean radius  mean texture  mean perimeter  mean area  mean smoothness  \\\n",
            "count       569.00        569.00          569.00     569.00           569.00   \n",
            "mean         14.13         19.29           91.97     654.89             0.10   \n",
            "std           3.52          4.30           24.30     351.91             0.01   \n",
            "min           6.98          9.71           43.79     143.50             0.05   \n",
            "25%          11.70         16.17           75.17     420.30             0.09   \n",
            "50%          13.37         18.84           86.24     551.10             0.10   \n",
            "75%          15.78         21.80          104.10     782.70             0.11   \n",
            "max          28.11         39.28          188.50   2,501.00             0.16   \n",
            "\n",
            "       mean compactness  mean concavity  mean concave points  mean symmetry  \\\n",
            "count            569.00          569.00               569.00         569.00   \n",
            "mean               0.10            0.09                 0.05           0.18   \n",
            "std                0.05            0.08                 0.04           0.03   \n",
            "min                0.02            0.00                 0.00           0.11   \n",
            "25%                0.06            0.03                 0.02           0.16   \n",
            "50%                0.09            0.06                 0.03           0.18   \n",
            "75%                0.13            0.13                 0.07           0.20   \n",
            "max                0.35            0.43                 0.20           0.30   \n",
            "\n",
            "       mean fractal dimension  ...  worst texture  worst perimeter  \\\n",
            "count                  569.00  ...         569.00           569.00   \n",
            "mean                     0.06  ...          25.68           107.26   \n",
            "std                      0.01  ...           6.15            33.60   \n",
            "min                      0.05  ...          12.02            50.41   \n",
            "25%                      0.06  ...          21.08            84.11   \n",
            "50%                      0.06  ...          25.41            97.66   \n",
            "75%                      0.07  ...          29.72           125.40   \n",
            "max                      0.10  ...          49.54           251.20   \n",
            "\n",
            "       worst area  worst smoothness  worst compactness  worst concavity  \\\n",
            "count      569.00            569.00             569.00           569.00   \n",
            "mean       880.58              0.13               0.25             0.27   \n",
            "std        569.36              0.02               0.16             0.21   \n",
            "min        185.20              0.07               0.03             0.00   \n",
            "25%        515.30              0.12               0.15             0.11   \n",
            "50%        686.50              0.13               0.21             0.23   \n",
            "75%      1,084.00              0.15               0.34             0.38   \n",
            "max      4,254.00              0.22               1.06             1.25   \n",
            "\n",
            "       worst concave points  worst symmetry  worst fractal dimension  target  \n",
            "count                569.00          569.00                   569.00  569.00  \n",
            "mean                   0.11            0.29                     0.08    0.63  \n",
            "std                    0.07            0.06                     0.02    0.48  \n",
            "min                    0.00            0.16                     0.06    0.00  \n",
            "25%                    0.06            0.25                     0.07    0.00  \n",
            "50%                    0.10            0.28                     0.08    1.00  \n",
            "75%                    0.16            0.32                     0.09    1.00  \n",
            "max                    0.29            0.66                     0.21    1.00  \n",
            "\n",
            "[8 rows x 31 columns]\n",
            "\n",
            "Class Distribution:\n",
            "target_name\n",
            "benign       357\n",
            "malignant    212\n",
            "Name: count, dtype: int64\n"
          ]
        }
      ],
      "source": [
        "# Load the dataset\n",
        "cancer = load_breast_cancer()\n",
        "\n",
        "# Create a Pandas DataFrame\n",
        "cancer_df = pd.DataFrame(data=cancer.data, columns=cancer.feature_names)\n",
        "cancer_df['target'] = cancer.target # 0: malignant, 1: benign\n",
        "cancer_df['target_name'] = cancer_df['target'].map({0: 'malignant', 1: 'benign'})\n",
        "\n",
        "# Display first few rows\n",
        "print(\"First 5 rows of the Breast Cancer dataset:\")\n",
        "print(cancer_df.head())\n",
        "\n",
        "# Display basic info\n",
        "print(\"\\nDataset Info:\")\n",
        "cancer_df.info()\n",
        "\n",
        "# Display summary statistics (notice the wide range in values - scaling will be important!)\n",
        "print(\"\\nSummary Statistics:\")\n",
        "# Increase display precision for clarity\n",
        "with pd.option_context('display.float_format', '{:,.2f}'.format):\n",
        "    print(cancer_df.describe())\n",
        "\n",
        "# Check class balance (how many malignant vs. benign cases)\n",
        "print(\"\\nClass Distribution:\")\n",
        "print(cancer_df['target_name'].value_counts())"
      ]
    },
    {
      "cell_type": "markdown",
      "metadata": {
        "id": "gPWHTisOcQtG"
      },
      "source": [
        "*Observation:* The dataset has 569 samples and 30 features. There are more benign cases (357) than malignant (212). Critically, notice the large differences in the scale of features (e.g., 'mean area' vs. 'mean smoothness'). This highlights the need for feature scaling, especially for distance-sensitive algorithms like SVM.\n",
        "\n",
        "---\n",
        "\n",
        "### 3. Prepare Data for Modeling\n",
        "\n",
        "Separate features (X) and target (y), then split into training and testing sets."
      ]
    },
    {
      "cell_type": "code",
      "execution_count": 3,
      "metadata": {
        "id": "jnpQLOOkcQtG"
      },
      "outputs": [
        {
          "name": "stdout",
          "output_type": "stream",
          "text": [
            "Training set shape: X_train=(426, 30), y_train=(426,)\n",
            "Testing set shape:  X_test=(143, 30), y_test=(143,)\n"
          ]
        }
      ],
      "source": [
        "# Features (independent variables)\n",
        "X = cancer.data # cancer_df.iloc[:, :-2] # Using the numpy array directly\n",
        "\n",
        "# Target variable (dependent variable)\n",
        "y = cancer.target # cancer_df['target']\n",
        "\n",
        "# Split data into training and testing sets (e.g., 75% train, 25% test)\n",
        "X_train, X_test, y_train, y_test = train_test_split(X, y, test_size=0.25, random_state=42, stratify=y)\n",
        "# random_state for reproducibility, stratify to maintain class proportions\n",
        "\n",
        "print(f\"Training set shape: X_train={X_train.shape}, y_train={y_train.shape}\")\n",
        "print(f\"Testing set shape:  X_test={X_test.shape}, y_test={y_test.shape}\")"
      ]
    },
    {
      "cell_type": "markdown",
      "metadata": {
        "id": "y9J9M7ckcQtH"
      },
      "source": [
        "---\n",
        "\n",
        "### 4. Feature Scaling (Crucial for SVM)\n",
        "\n",
        "SVMs are sensitive to the scale of features because the algorithm works by finding distances between points to define the margin. Features with larger values can disproportionately influence the distance calculation. We'll use `StandardScaler` to standardize features (mean=0, variance=1).\n",
        "\n",
        "**Important:** Fit the scaler *only* on the training data to prevent data leakage from the test set, then transform *both* the training and test sets."
      ]
    },
    {
      "cell_type": "code",
      "execution_count": 4,
      "metadata": {
        "id": "94M-_msAcQtH"
      },
      "outputs": [
        {
          "name": "stdout",
          "output_type": "stream",
          "text": [
            "\n",
            "Original Training Data (First Sample):\n",
            " [1.989e+01 2.026e+01 1.305e+02 1.214e+03 1.037e-01]\n",
            "\n",
            "Scaled Training Data (First Sample):\n",
            " [1.65909581 0.21720545 1.6106199  1.63333853 0.57631161]\n",
            "\n",
            "Scaled Test Data (First Sample):\n",
            " [-0.37811061 -0.58413032 -0.37600132 -0.45097608  1.23648301]\n"
          ]
        }
      ],
      "source": [
        "# Initialize the StandardScaler\n",
        "scaler = StandardScaler()\n",
        "\n",
        "# Fit the scaler on the training data and transform it\n",
        "X_train_scaled = scaler.fit_transform(X_train)\n",
        "\n",
        "# Transform the test data using the SAME fitted scaler\n",
        "X_test_scaled = scaler.transform(X_test)\n",
        "\n",
        "# Display the effect of scaling on the first few samples (optional)\n",
        "print(\"\\nOriginal Training Data (First Sample):\\n\", X_train[0][:5]) # Show first 5 features\n",
        "print(\"\\nScaled Training Data (First Sample):\\n\", X_train_scaled[0][:5])\n",
        "print(\"\\nScaled Test Data (First Sample):\\n\", X_test_scaled[0][:5])"
      ]
    },
    {
      "cell_type": "markdown",
      "metadata": {
        "id": "nRRTJtzecQtH"
      },
      "source": [
        "---\n",
        "\n",
        "### 5. Build and Train the SVM Model\n",
        "\n",
        "We'll create an `SVC` instance. Common kernel choices are `'linear'`, `'poly'`, and `'rbf'` (Radial Basis Function, often a good default). Key hyperparameters include:\n",
        "* `C`: Regularization parameter. Controls the trade-off between achieving a low training error and a low testing error (generalization). Smaller C creates a wider margin but tolerates more misclassifications. Larger C aims for fewer misclassifications on the training data, potentially leading to a narrower margin and overfitting.\n",
        "* `gamma`: Kernel coefficient for 'rbf', 'poly', and 'sigmoid'. Defines how far the influence of a single training example reaches. Low values mean 'far', high values mean 'close'.\n",
        "\n",
        "Let's start with the default RBF kernel and default parameters (`C=1.0`, `gamma='scale'`)."
      ]
    },
    {
      "cell_type": "code",
      "execution_count": 5,
      "metadata": {
        "id": "398qMj1jcQtH"
      },
      "outputs": [
        {
          "name": "stdout",
          "output_type": "stream",
          "text": [
            "\n",
            "SVM model trained successfully with RBF kernel.\n"
          ]
        }
      ],
      "source": [
        "# Create the SVM classifier instance (using default RBF kernel)\n",
        "svm_model = SVC(kernel='rbf', C=1.0, gamma='scale', random_state=42) # random_state for reproducibility if algorithm has stochastic elements\n",
        "\n",
        "# Train the model using the SCALED training data\n",
        "svm_model.fit(X_train_scaled, y_train)\n",
        "\n",
        "print(\"\\nSVM model trained successfully with RBF kernel.\")"
      ]
    },
    {
      "cell_type": "markdown",
      "metadata": {
        "id": "zNxiBKYhcQtH"
      },
      "source": [
        "---\n",
        "\n",
        "### 6. Make Predictions\n",
        "\n",
        "Use the trained SVM model to make predictions on the *scaled* test data."
      ]
    },
    {
      "cell_type": "code",
      "execution_count": 6,
      "metadata": {
        "id": "LlmfpbuGcQtI"
      },
      "outputs": [
        {
          "name": "stdout",
          "output_type": "stream",
          "text": [
            "\n",
            "Sample Predictions vs Actual Labels:\n",
            "  Actual_Name Predicted_Name\n",
            "0      benign         benign\n",
            "1   malignant      malignant\n",
            "2      benign         benign\n",
            "3      benign         benign\n",
            "4   malignant      malignant\n",
            "5   malignant      malignant\n",
            "6   malignant      malignant\n",
            "7   malignant      malignant\n",
            "8   malignant      malignant\n",
            "9      benign         benign\n"
          ]
        }
      ],
      "source": [
        "# Predict the classes for the SCALED test data\n",
        "y_pred = svm_model.predict(X_test_scaled)\n",
        "\n",
        "# Display sample predictions vs actual\n",
        "print(\"\\nSample Predictions vs Actual Labels:\")\n",
        "comparison_df = pd.DataFrame({'Actual': y_test, 'Predicted': y_pred})\n",
        "comparison_df['Actual_Name'] = comparison_df['Actual'].map({0: 'malignant', 1: 'benign'})\n",
        "comparison_df['Predicted_Name'] = comparison_df['Predicted'].map({0: 'malignant', 1: 'benign'})\n",
        "print(comparison_df[['Actual_Name', 'Predicted_Name']].head(10))"
      ]
    },
    {
      "cell_type": "markdown",
      "metadata": {
        "id": "SDmP0NadcQtI"
      },
      "source": [
        "---\n",
        "\n",
        "### 7. Evaluate the Model\n",
        "\n",
        "Assess the performance using standard classification metrics."
      ]
    },
    {
      "cell_type": "code",
      "execution_count": 7,
      "metadata": {
        "id": "YKnQsdPOcQtI"
      },
      "outputs": [
        {
          "name": "stdout",
          "output_type": "stream",
          "text": [
            "\n",
            "Model Accuracy: 0.9790\n",
            "\n",
            "Confusion Matrix:\n",
            "Labels: {0: np.str_('malignant'), 1: np.str_('benign')}\n",
            "[[52  1]\n",
            " [ 2 88]]\n"
          ]
        },
        {
          "data": {
            "image/png": "[encoded data removed]",
            "text/plain": [
              "<Figure size 800x600 with 2 Axes>"
            ]
          },
          "metadata": {},
          "output_type": "display_data"
        },
        {
          "name": "stdout",
          "output_type": "stream",
          "text": [
            "\n",
            "Classification Report:\n",
            "              precision    recall  f1-score   support\n",
            "\n",
            "   malignant       0.96      0.98      0.97        53\n",
            "      benign       0.99      0.98      0.98        90\n",
            "\n",
            "    accuracy                           0.98       143\n",
            "   macro avg       0.98      0.98      0.98       143\n",
            "weighted avg       0.98      0.98      0.98       143\n",
            "\n"
          ]
        }
      ],
      "source": [
        "# Calculate accuracy\n",
        "accuracy = accuracy_score(y_test, y_pred)\n",
        "print(f\"\\nModel Accuracy: {accuracy:.4f}\")\n",
        "\n",
        "# Generate the Confusion Matrix\n",
        "cm = confusion_matrix(y_test, y_pred)\n",
        "print(\"\\nConfusion Matrix:\")\n",
        "# Rows: True class, Columns: Predicted class\n",
        "# [[True Malignant (TN)], [False Benign (FP)]]\n",
        "# [[False Malignant(FN)], [True Benign (TP)]] -> Note: Scikit-learn puts 0 (malignant) first usually\n",
        "# Let's verify with labels:\n",
        "target_names = cancer.target_names # ['malignant', 'benign']\n",
        "print(f\"Labels: {dict(enumerate(target_names))}\")\n",
        "print(cm)\n",
        "\n",
        "\n",
        "# Visualize the Confusion Matrix\n",
        "plt.figure(figsize=(8, 6))\n",
        "sns.heatmap(cm, annot=True, fmt='d', cmap='Blues',\n",
        "            xticklabels=target_names, yticklabels=target_names)\n",
        "plt.xlabel('Predicted Label')\n",
        "plt.ylabel('True Label')\n",
        "plt.title('Confusion Matrix - SVM (RBF Kernel)')\n",
        "plt.show()\n",
        "\n",
        "# Generate the Classification Report\n",
        "print(\"\\nClassification Report:\")\n",
        "report = classification_report(y_test, y_pred, target_names=target_names)\n",
        "print(report)"
      ]
    },
    {
      "cell_type": "markdown",
      "metadata": {
        "id": "DtFT_W2KcQtI"
      },
      "source": [
        "*Interpretation Notes:*\n",
        "* **Accuracy:** Very high, indicating the model performs well overall.\n",
        "* **Confusion Matrix:** Shows the exact number of correct/incorrect predictions for each class. For instance, how many actual 'malignant' cases were correctly predicted as 'malignant' (True Negatives if malignant=0), and how many were incorrectly predicted as 'benign' (False Positives if malignant=0). *(Check the specific TN/FP/FN/TP mapping based on the class labels 0 and 1).*\n",
        "* **Precision (Malignant):** Of all tumors predicted as malignant, how many actually were?\n",
        "* **Recall (Malignant):** Of all tumors that were truly malignant, how many did the model correctly identify? This is often crucial in medical diagnosis (minimizing False Negatives - failing to detect cancer).\n",
        "* **Precision/Recall (Benign):** Similar interpretations for the benign class.\n",
        "* **F1-Score:** Balance between precision and recall.\n",
        "\n",
        "The model seems to perform exceptionally well on this dataset, achieving high precision and recall for both classes.\n",
        "\n",
        "\n",
        "---\n",
        "\n",
        "### 8. Conclusion\n",
        "\n",
        "We successfully applied the Support Vector Machine (SVM) algorithm with an RBF kernel to the Breast Cancer Wisconsin dataset. Key steps included loading the data, performing essential **feature scaling** (standardization), training the `SVC` model, making predictions, and evaluating performance. The SVM achieved high accuracy, precision, and recall, demonstrating its effectiveness for this binary classification task.\n",
        "\n",
        "SVMs are powerful tools, particularly effective in high-dimensional spaces and versatile due to different kernel options. However, choosing the right kernel and tuning hyperparameters can be important for optimal performance, and they can be computationally intensive to train on very large datasets."
      ]
    }
  ],
  "metadata": {
    "colab": {
      "provenance": []
    },
    "kernelspec": {
      "display_name": ".venv",
      "language": "python",
      "name": "python3"
    },
    "language_info": {
      "codemirror_mode": {
        "name": "ipython",
        "version": 3
      },
      "file_extension": ".py",
      "mimetype": "text/x-python",
      "name": "python",
      "nbconvert_exporter": "python",
      "pygments_lexer": "ipython3",
      "version": "3.13.2"
    }
  },
  "nbformat": 4,
  "nbformat_minor": 0
}
